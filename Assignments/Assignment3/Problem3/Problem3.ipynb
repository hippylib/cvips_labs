{
 "cells": [
  {
   "cell_type": "markdown",
   "metadata": {},
   "source": [
    "# Problem 3\n",
    "\n",
    "An anisotropic Poisson problem in a two-dimensional domain $\\Omega$ is given by the strong form\n",
    "\n",
    "$$ \n",
    "\\newcommand{\\bs}[1]{{\\boldsymbol{#1}}}\n",
    "\\begin{array}{ll}\n",
    "-\\bs{\\nabla} \\cdot\\left( \\bs{A} \\bs{\\nabla} u\\right) &= f \\quad\n",
    "\\:\\:\\text{ in }\\Omega, \\\\ \n",
    "u &= u_0  \\quad \\text{ on } \\Gamma,\n",
    "\\end{array}\n",
    "$$\n",
    "\n",
    "where the conductivity tensor $\\bs{A}(\\bs{x})\\in \\mathbb{R}^{2\\times\n",
    "  2}$ is assumed to be symmetric and positive definite for all\n",
    "$\\bs{x}$, $f(\\bs{x})$ is a given distributed source, and $u_0(\\bs{x})$\n",
    "is the source on the boundary $\\Gamma$.\n",
    "\n",
    "Choose $\\Omega$ to be a disc with radius 1 around the origin.\n",
    "\n",
    "Take the source terms to be\n",
    "$$\n",
    "f = \\exp(-100(x^2+y^2))\\quad \\text{ and } \\quad u_0 = 0.\n",
    "$$\n",
    "\n",
    "Use conductivity tensors $\\bs{A(x)}$ given by\n",
    "$$\n",
    "\\bs{A}_1 = \\begin{pmatrix}\n",
    "10 & 0\\\\\n",
    "0  &10\n",
    "\\end{pmatrix}\n",
    "\\text{ and }\n",
    "\\bs{A}_2 = \\begin{pmatrix}\n",
    "1  & -5\\\\\n",
    "-5 &100\n",
    "\\end{pmatrix}\n",
    "$$"
   ]
  },
  {
   "cell_type": "markdown",
   "metadata": {},
   "source": [
    "## Import FEniCS and define the mesh"
   ]
  },
  {
   "cell_type": "code",
   "execution_count": null,
   "metadata": {},
   "outputs": [],
   "source": [
    "import dolfin as dl\n",
    "import ufl\n",
    "\n",
    "# Enable plotting inside the notebook\n",
    "import matplotlib.pyplot as plt\n",
    "%matplotlib inline\n",
    "\n",
    "from hippylib import nb\n",
    "\n",
    "import logging\n",
    "logging.getLogger('FFC').setLevel(logging.WARNING)\n",
    "logging.getLogger('UFL').setLevel(logging.WARNING)\n",
    "dl.set_log_active(False)\n",
    "\n",
    "mesh = dl.Mesh(\"circle.xml\")\n",
    "\n",
    "nb.plot(mesh)"
   ]
  },
  {
   "cell_type": "markdown",
   "metadata": {},
   "source": [
    "## Define source terms and conductivity tensors"
   ]
  },
  {
   "cell_type": "code",
   "execution_count": null,
   "metadata": {},
   "outputs": [],
   "source": [
    "f = dl.Expression(\"std::exp(-100.*(x[0]*x[0] + x[1]*x[1]))\", degree=5)\n",
    "u_0 = dl.Constant(0.)\n",
    "\n",
    "A1 = dl.Constant(((10.0, 0.0),(0.0, 10.0)))\n",
    "A2 = dl.Constant(((1.0, -5.0),(-5.0, 100.0)))"
   ]
  },
  {
   "cell_type": "code",
   "execution_count": null,
   "metadata": {},
   "outputs": [],
   "source": []
  }
 ],
 "metadata": {
  "kernelspec": {
   "display_name": "Python 3",
   "language": "python",
   "name": "python3"
  },
  "language_info": {
   "codemirror_mode": {
    "name": "ipython",
    "version": 3
   },
   "file_extension": ".py",
   "mimetype": "text/x-python",
   "name": "python",
   "nbconvert_exporter": "python",
   "pygments_lexer": "ipython3",
   "version": "3.6.7"
  }
 },
 "nbformat": 4,
 "nbformat_minor": 2
}
