{
 "cells": [
  {
   "cell_type": "markdown",
   "metadata": {},
   "source": [
    "# Energy minimization example\n",
    "\n",
    "This example uses the Inexact Newton CG algorithm to minimize a non-quadratic energy functional\n",
    "\n",
    "$$ E(u) = \\frac{1}{2} \\int_\\Omega k(u) \\nabla u \\cdot \\nabla u d\\boldsymbol{x} + \\frac{1}{2} \\int_{\\partial\\Omega} \\beta u^2 d\\boldsymbol{s} - \\int_\\Omega f u d\\boldsymbol{x}, $$\n",
    "\n",
    "where $\\Omega$ is the unit circle."
   ]
  },
  {
   "cell_type": "code",
   "execution_count": null,
   "metadata": {},
   "outputs": [
    {
     "name": "stdout",
     "output_type": "stream",
     "text": [
      " It          Energy           ||g||          (g,du)           alpha          tol_cg   cg_it\n",
      "  0   -2.189399e+00    8.786318e-01   -2.970296e+01    1.250000e-01    5.000000e-01       1\n"
     ]
    }
   ],
   "source": [
    "# Initialization\n",
    "import matplotlib.pyplot as plt\n",
    "%matplotlib inline\n",
    "\n",
    "import dolfin as dl\n",
    "import ufl\n",
    "import math\n",
    "import numpy as np\n",
    "import logging\n",
    "from unconstrainedMinimization import InexactNewtonCG\n",
    "\n",
    "logging.getLogger('FFC').setLevel(logging.WARNING)\n",
    "logging.getLogger('UFL').setLevel(logging.WARNING)\n",
    "dl.set_log_active(False)\n",
    "\n",
    "mesh = dl.Mesh(\"../Problem3/circle.xml\")\n",
    "\n",
    "# Define the finite element space\n",
    "Vh = dl.FunctionSpace(mesh, \"Lagrange\", 2)\n",
    "\n",
    "u = dl.Function(Vh)\n",
    "u_hat = dl.TestFunction(Vh)\n",
    "u_tilde = dl.TrialFunction(Vh)\n",
    "\n",
    "# Define the energy functional\n",
    "f = dl.Expression(\"100*exp(-100*(x[0]*x[0] + x[1]*x[1]))\",degree=5)\n",
    "beta = dl.Constant(100)\n",
    "k1 = dl.Constant(.1)\n",
    "k2 = dl.Constant(1.)\n",
    "\n",
    "E = dl.Constant(.5)*beta*u*u*ufl.ds + \\\n",
    "    dl.Constant(.5)*(k1 + k2*u*u)*ufl.inner(ufl.grad(u), ufl.grad(u))*ufl.dx - \\\n",
    "    f*u*ufl.dx\n",
    "\n",
    "grad = dl.derivative(E, u, u_hat)\n",
    "\n",
    "H = dl.derivative(grad, u, u_tilde)\n",
    "    \n",
    "    \n",
    "solver = InexactNewtonCG()\n",
    "solver.parameters[\"rel_tolerance\"] = 1e-6\n",
    "solver.parameters[\"abs_tolerance\"] = 1e-9\n",
    "solver.parameters[\"gdu_tolerance\"] = 1e-18\n",
    "solver.parameters[\"max_iter\"] = 1000\n",
    "solver.parameters[\"c_armijo\"] = 1e-5\n",
    "solver.parameters[\"print_level\"] = 1\n",
    "solver.parameters[\"max_backtracking_iter\"] = 10\n",
    "\n",
    "solver.solve(E, u, grad, H)\n",
    "\n",
    "dl.plot(u)\n",
    "plt.show()"
   ]
  },
  {
   "cell_type": "markdown",
   "metadata": {},
   "source": [
    "Copyright (c) 2016, The University of Texas at Austin & University of California, Merced.\n",
    "\n",
    "All Rights reserved.\n",
    "See file COPYRIGHT for details.\n",
    "\n",
    "This file is part of the hIPPYlib library. For more information and source code availability see https://hippylib.github.io.\n",
    "\n",
    "hIPPYlib is free software; you can redistribute it and/or modify it under the terms of the GNU General Public License (as published by the Free Software Foundation) version 2.0 dated June 1991."
   ]
  }
 ],
 "metadata": {
  "kernelspec": {
   "display_name": "Python 3",
   "language": "python",
   "name": "python3"
  },
  "language_info": {
   "codemirror_mode": {
    "name": "ipython",
    "version": 3
   },
   "file_extension": ".py",
   "mimetype": "text/x-python",
   "name": "python",
   "nbconvert_exporter": "python",
   "pygments_lexer": "ipython3",
   "version": "3.6.7"
  }
 },
 "nbformat": 4,
 "nbformat_minor": 2
}
