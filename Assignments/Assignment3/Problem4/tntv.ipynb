{
 "cells": [
  {
   "cell_type": "markdown",
   "metadata": {},
   "source": [
    "## Problem 4"
   ]
  },
  {
   "cell_type": "markdown",
   "metadata": {},
   "source": [
    "## Python imports"
   ]
  },
  {
   "cell_type": "code",
   "execution_count": null,
   "metadata": {},
   "outputs": [],
   "source": [
    "import matplotlib.pyplot as plt\n",
    "%matplotlib inline\n",
    "\n",
    "import dolfin as dl\n",
    "import ufl\n",
    "import math\n",
    "import numpy as np\n",
    "import logging\n",
    "from unconstrainedMinimization import InexactNewtonCG\n",
    "\n",
    "import hippylib as hp\n",
    "\n",
    "logging.getLogger('FFC').setLevel(logging.WARNING)\n",
    "logging.getLogger('UFL').setLevel(logging.WARNING)\n",
    "dl.set_log_active(False)"
   ]
  },
  {
   "cell_type": "markdown",
   "metadata": {},
   "source": [
    "## Set-up\n",
    "\n",
    "1. Read the image from file\n",
    "2. Build the mesh and finite element spaces\n",
    "3. Interpolate the clean and noisy image to the finite element space"
   ]
  },
  {
   "cell_type": "code",
   "execution_count": null,
   "metadata": {},
   "outputs": [],
   "source": [
    "# Set the level of noise:\n",
    "noise_std_dev = .3\n",
    "\n",
    "# Load the image from file\n",
    "data = np.transpose( np.loadtxt('image.dat', delimiter=',') )\n",
    "np.random.seed(seed=1)\n",
    "\n",
    "noise = noise_std_dev*np.random.randn(data.shape[0], data.shape[1])\n",
    "Ly = 1.\n",
    "Lx = float(data.shape[0])/float(data.shape[1])\n",
    "h = Ly/float(data.shape[1])\n",
    "\n",
    "\n",
    "mesh = dl.RectangleMesh(dl.Point(0,0),dl.Point(Lx,Ly), 200, 100)\n",
    "V = dl.FunctionSpace(mesh, \"Lagrange\",1)\n",
    "\n",
    "trueImage  = hp.NumpyScalarExpression2D()\n",
    "trueImage.setData(data, h,h)\n",
    "noisyImage = hp.NumpyScalarExpression2D()\n",
    "noisyImage.setData(data+noise, h,h)\n",
    "\n",
    "u_true  = dl.interpolate(trueImage, V)\n",
    "u_0     = dl.interpolate(noisyImage, V)\n",
    "\n",
    "vmin = np.min(u_0.vector().get_local())\n",
    "vmax = np.max(u_0.vector().get_local())\n",
    "\n",
    "plt.figure(figsize=[15,15])\n",
    "plt.subplot(1,2,1)\n",
    "dl.plot(u_true, title=\"True Image\", vmin=vmin, vmax = vmax, cmap='gray')\n",
    "plt.subplot(1,2,2)\n",
    "dl.plot(u_0, title=\"Noisy Image\", vmin=vmin, vmax = vmax, cmap='gray')\n",
    "plt.show()"
   ]
  },
  {
   "cell_type": "markdown",
   "metadata": {},
   "source": [
    "Copyright (c) 2016, The University of Texas at Austin & University of California, Merced.\n",
    "\n",
    "All Rights reserved.\n",
    "See file COPYRIGHT for details.\n",
    "\n",
    "This file is part of the hIPPYlib library. For more information and source code availability see https://hippylib.github.io.\n",
    "\n",
    "hIPPYlib is free software; you can redistribute it and/or modify it under the terms of the GNU General Public License (as published by the Free Software Foundation) version 2.0 dated June 1991."
   ]
  }
 ],
 "metadata": {
  "kernelspec": {
   "display_name": "Python 3",
   "language": "python",
   "name": "python3"
  },
  "language_info": {
   "codemirror_mode": {
    "name": "ipython",
    "version": 3
   },
   "file_extension": ".py",
   "mimetype": "text/x-python",
   "name": "python",
   "nbconvert_exporter": "python",
   "pygments_lexer": "ipython3",
   "version": "3.6.7"
  }
 },
 "nbformat": 4,
 "nbformat_minor": 2
}
