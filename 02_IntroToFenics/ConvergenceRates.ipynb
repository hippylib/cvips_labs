{
 "cells": [
  {
   "cell_type": "markdown",
   "metadata": {},
   "source": [
    "# Convergence rates (2D Poisson equation)\n",
    "\n",
    "In this notebook we numerically verify the theoretical converge rates of the finite element discretization of an elliptic problem.\n",
    "\n",
    "Specifically, for a domain $\\Omega \\subset \\mathbb{R}^2$ with boundary $\\partial \\Omega = \\Gamma_D \\cup \\Gamma_N$, we consider the  the boundary value problem (BVP):\n",
    "\n",
    "$$ \n",
    "\\left\\{\n",
    "\\begin{array}{ll}\n",
    "- \\Delta u = f  & \\text{in} \\; \\Omega, \\\\\n",
    "u = u_D & \\text{on} \\; \\Gamma_D, \\\\\n",
    "\\nabla u \\cdot \\boldsymbol{n} = g & \\text{on} \\; \\Gamma_N.\n",
    "\\end{array}\n",
    "\\right.$$\n",
    "\n",
    "Here, $\\Gamma_D \\subset \\Omega$ denotes the part of the boundary where we prescribe Dirichlet boundary conditions, and $\\Gamma_N \\subset \\Omega$ denotes the part of the boundary where we prescribe Neumann boundary conditions. $\\boldsymbol{n}$ denotes the unit normal of $\\partial \\Omega$ pointing outside $\\Omega$. \n",
    "\n",
    "The coefficient $f$, $g$, $u_D$ are chosen such that the analytical solution is $u_{ex} = e^{\\pi y} \\sin(\\pi x)$.\n",
    "\n",
    "To obtain the weak form, we define the functional spaces $V_{u_D} = \\{ v \\in H^1(\\Omega) \\, |\\, v = u_D \\text{ on } \\Gamma_D\\}$ and $V_{0} = \\{ v \\in H^1(\\Omega) \\,| \\, v = 0 \\text{ on } \\Gamma_D\\}$.\n",
    "\n",
    "Then, the weak formulation of the boundary value problem reads\n",
    "\n",
    "Find $u \\in V_{u_D}$:\n",
    "$$ \\int_\\Omega \\nabla u \\cdot \\nabla v \\, dx = \\int_\\Omega f\\,v \\, dx + \\int_{\\Gamma_N} g\\,v\\,ds, \\quad \\forall v \\in V_0. $$\n",
    "\n",
    "Finally, to obtain the finite element discretization we introduce a uniform triangulation (mesh) $\\mathcal{T}_h$ of the domain $\\Omega$ and finite dimensional subspace $V_h \\subset H^1(\\Omega)$. \n",
    "The space $V_{h}$ consists of globally continuous functions that are piecewise polynomial with degree $k$ on each element $\\tau$ of the mesh $\\mathcal{T}_h$, that is\n",
    "$$ V_h := \\left\\{ v_h \\in V \\; | \\; \\left. v_h \\right|_{\\tau} \\in P^{k} \\quad  \\forall \\tau \\in \\mathcal{T}_h \\right\\},$$\n",
    "where $P^{k}$ denotes the space of polynomial function with degree $k$.\n",
    "\n",
    "By letting $V_{h, u_D} := \\{ v_h \\in V_h \\, | \\, v_h = u_D \\text{ on } \\Gamma_D\\}$ and $V_{h, 0} := \\{ v_h \\in V_h \\, | \\, v_h = 0 \\text{ on } \\Gamma_D\\}$, the finite element discretization of the BVP reads:\n",
    "\n",
    "Find $u_h \\in V_{h, u_D}$ such that\n",
    "$$ \\int_\\Omega \\nabla u_h \\cdot \\nabla v_h \\, dx = \\int_\\Omega f\\,v_h \\, dx + \\int_{\\Gamma_N} g\\,v_h\\,ds, \\quad \\forall v_h \\in V_{h,0}. $$"
   ]
  },
  {
   "cell_type": "markdown",
   "metadata": {},
   "source": [
    "## Finite element error estimates\n",
    "\n",
    "Assuming that the analytical solution is regular enough (i.e. $u_{\\rm ex} \\in H^{k+1}(\\Omega)$), the following error estimates hold\n",
    "\n",
    "- Energy norm:\n",
    "$$ \\left\\| u_{\\rm ex} - u_h \\right\\|_{\\rm energy} := \\left( \\int_\\Omega \\left| \\nabla u_{\\rm ex} - \\nabla u_{h}\\right|^2 dx \\right)^{\\frac{1}{2}} = \\mathcal{O}(h^k), $$\n",
    "\n",
    "- $L^2(\\Omega)$ norm:\n",
    "$$ \\left\\| u_{\\rm ex} - u_h \\right\\|_{L^2} := \\left( \\int_\\Omega \\left|u_{\\rm ex} - u_{h}\\right|^2 dx \\right)^{\\frac{1}{2}} = \\mathcal{O}(h^{k+1}), $$\n",
    "\n",
    "where $h$ denote the mesh size."
   ]
  },
  {
   "cell_type": "markdown",
   "metadata": {},
   "source": [
    "## Step 1. Import modules"
   ]
  },
  {
   "cell_type": "code",
   "execution_count": null,
   "metadata": {},
   "outputs": [],
   "source": [
    "import dolfin as dl\n",
    "import ufl\n",
    "import numpy as np\n",
    "\n",
    "import matplotlib.pyplot as plt\n",
    "%matplotlib inline\n",
    "\n",
    "import logging\n",
    "logging.getLogger('FFC').setLevel(logging.WARNING)\n",
    "logging.getLogger('UFL').setLevel(logging.WARNING)\n",
    "dl.set_log_active(False)"
   ]
  },
  {
   "cell_type": "markdown",
   "metadata": {},
   "source": [
    "## Step 2. Finite element solution of the BVP\n",
    "\n",
    "Here we implement a function `solveBVP` that computes the finite element discretizions and solves the discretized problem.\n",
    "\n",
    "As input, it takes the number of mesh elements `n` in each direction and the polynomial degree `degree` of the finite element space. As output, it returns the errors in the $L^2$ and energy norm."
   ]
  },
  {
   "cell_type": "code",
   "execution_count": null,
   "metadata": {},
   "outputs": [],
   "source": [
    "def solveBVP(n, degree):\n",
    "    # 1. Mesh and finite element space\n",
    "    mesh = dl.UnitSquareMesh(n,n)\n",
    "    Vh = dl.FunctionSpace(mesh, 'CG', degree)\n",
    "\n",
    "    # 2. Define the right hand side f and g\n",
    "    f = dl.Constant(0.)\n",
    "    g = dl.Expression(\"DOLFIN_PI*exp(DOLFIN_PI*x[1])*sin(DOLFIN_PI*x[0])\", degree=degree+2)\n",
    "    \n",
    "    # 3. Define the Dirichlet boundary condition\n",
    "    u_bc = dl.Expression(\"sin(DOLFIN_PI*x[0])\", degree = degree+2)\n",
    "    def dirichlet_boundary(x,on_boundary):\n",
    "        return (x[1] < dl.DOLFIN_EPS or x[0] < dl.DOLFIN_EPS or x[0] > 1.0 - dl.DOLFIN_EPS) and on_boundary\n",
    "    bcs = [dl.DirichletBC(Vh, u_bc, dirichlet_boundary)]\n",
    "\n",
    "    # 4. Define the weak form\n",
    "    uh = dl.TrialFunction(Vh)\n",
    "    vh = dl.TestFunction(Vh)\n",
    "    A_form = ufl.inner(ufl.grad(uh), ufl.grad(vh))*ufl.dx\n",
    "    b_form = f*vh*ufl.dx + g*vh*ufl.ds\n",
    "\n",
    "    # 5. Assemble and solve the finite element discrete problem\n",
    "    A, b = dl.assemble_system(A_form, b_form, bcs)\n",
    "    uh = dl.Function(Vh)\n",
    "    dl.solve(A, uh.vector(), b, \"cg\", \"petsc_amg\")\n",
    "\n",
    "    # 6. Compute error norms\n",
    "    u_ex = dl.Expression(\"exp(DOLFIN_PI*x[1])*sin(DOLFIN_PI*x[0])\", degree = degree+2, domain=mesh)\n",
    "    err_L2 = np.sqrt( dl.assemble((uh-u_ex)**2*ufl.dx) ) \n",
    "\n",
    "    grad_u_ex = dl.Expression( (\"DOLFIN_PI*exp(DOLFIN_PI*x[1])*cos(DOLFIN_PI*x[0])\",\n",
    "                         \"DOLFIN_PI*exp(DOLFIN_PI*x[1])*sin(DOLFIN_PI*x[0])\"), degree = degree+2, domain=mesh )\n",
    "    err_energy = np.sqrt(dl.assemble(ufl.inner(ufl.grad(uh) - grad_u_ex, ufl.grad(uh) - grad_u_ex)*ufl.dx))\n",
    "    \n",
    "    return err_L2, err_energy"
   ]
  },
  {
   "cell_type": "markdown",
   "metadata": {},
   "source": [
    "## Step 3. Generate the converges plots\n",
    "\n",
    "The function `make_convergence_plot` generates the converges plots.\n",
    "\n",
    "It takes as input a `numpy.array n` that contains a sequence of number of mesh elements and the polynomial degree `degree` of the finite element space.\n",
    "\n",
    "It plots the energy norm of the error (in red) and the $L^2$ norm of the error (in blue) in a loglog scale. The $x$-axis is the mesh size $h$.\n",
    "\n",
    "The slope of the lines in the loglog scale represents the order of converge and dotted lines represents the expected convergence rate."
   ]
  },
  {
   "cell_type": "code",
   "execution_count": null,
   "metadata": {},
   "outputs": [],
   "source": [
    "def make_convergence_plot(n, degree):\n",
    "    errs_L2 = np.zeros(n.shape)\n",
    "    errs_En = np.zeros(n.shape)\n",
    "    \n",
    "    for i in np.arange(n.shape[0]):\n",
    "        print(i, \": Solving problem on a mesh with\", n[i], \" elements.\")\n",
    "        eL2, eE = solveBVP(n[i], degree)\n",
    "        errs_L2[i] = eL2\n",
    "        errs_En[i] = eE\n",
    "        \n",
    "    h = np.ones(n.shape)/n\n",
    "    plt.loglog(h, errs_L2, '-*b', label='L2')\n",
    "    plt.loglog(h, errs_En, '-*r', label='Energy')\n",
    "    plt.loglog(h, .7*np.power(h,degree+1)*errs_L2[0]/np.power(h[0],degree+1), '--b', label = 'order {0}'.format(degree+1))\n",
    "    plt.loglog(h, .7*np.power(h,degree)*errs_En[0]/np.power(h[0],degree), '--r', label = 'order {0}'.format(degree))\n",
    "    plt.legend()\n",
    "    plt.grid()\n",
    "    plt.show()\n",
    "    "
   ]
  },
  {
   "cell_type": "markdown",
   "metadata": {},
   "source": [
    "## Converges rate of piecewise linear finite element (k=1)"
   ]
  },
  {
   "cell_type": "code",
   "execution_count": null,
   "metadata": {},
   "outputs": [],
   "source": [
    "degree = 1\n",
    "n = np.power(2, np.arange(2,7)) # n = [2^2, 2^3, 2^4 2^5, 2^6]\n",
    "make_convergence_plot(n, degree)"
   ]
  },
  {
   "cell_type": "markdown",
   "metadata": {},
   "source": [
    "## Converges rate of piecewise quadratic finite element (k=2)"
   ]
  },
  {
   "cell_type": "code",
   "execution_count": null,
   "metadata": {},
   "outputs": [],
   "source": [
    "degree = 2\n",
    "make_convergence_plot(n, degree)"
   ]
  },
  {
   "cell_type": "markdown",
   "metadata": {},
   "source": [
    "Copyright &copy; 2022, The University of Texas at Austin.\n",
    "\n",
    "All Rights reserved. See file COPYRIGHT for details.\n",
    "\n",
    "This file is part of `cvips_labs`, the teaching material for ESE 5932 *Computational and Variational Methods for Inverse Problems* at The University of Texas at Austin. Please see https://hippylib.github.io/cvips_labs for more information and source code availability.\n",
    "\n",
    "We would like to acknowledge the *Advanced Cyberinfrastructure Coordination Ecosystem: Services & Support* (ACCESS) program for providing cloud computing resources (Jetstream) for this course through allocation MTH230002. ACCESS is an advanced computing and data resource supported by the National Science Foundation and made possible through these lead institutions and their partners – Carnegie Mellon University; University of Colorado Boulder; University of Illinois at Urbana-Champaign; and State University of New York at Buffalo."
   ]
  }
 ],
 "metadata": {
  "kernelspec": {
   "display_name": "Python 3",
   "language": "python",
   "name": "python3"
  },
  "language_info": {
   "codemirror_mode": {
    "name": "ipython",
    "version": 3
   },
   "file_extension": ".py",
   "mimetype": "text/x-python",
   "name": "python",
   "nbconvert_exporter": "python",
   "pygments_lexer": "ipython3",
   "version": "3.6.7"
  }
 },
 "nbformat": 4,
 "nbformat_minor": 1
}
